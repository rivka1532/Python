{
 "cells": [
  {
   "cell_type": "code",
   "execution_count": 1,
   "id": "f6ea3e95-7cb1-41a9-aece-442a827148f0",
   "metadata": {},
   "outputs": [
    {
     "name": "stdout",
     "output_type": "stream",
     "text": [
      "Collecting numpy\n",
      "  Downloading numpy-2.2.5-cp310-cp310-win_amd64.whl.metadata (60 kB)\n",
      "     ---------------------------------------- 0.0/60.8 kB ? eta -:--:--\n",
      "     -------------------- ------------------- 30.7/60.8 kB 1.4 MB/s eta 0:00:01\n",
      "     -------------------------------------- 60.8/60.8 kB 816.2 kB/s eta 0:00:00\n",
      "Downloading numpy-2.2.5-cp310-cp310-win_amd64.whl (12.9 MB)\n",
      "   ---------------------------------------- 0.0/12.9 MB ? eta -:--:--\n",
      "   ---------------------------------------- 0.1/12.9 MB 2.6 MB/s eta 0:00:06\n",
      "    --------------------------------------- 0.3/12.9 MB 3.5 MB/s eta 0:00:04\n",
      "   - -------------------------------------- 0.6/12.9 MB 4.9 MB/s eta 0:00:03\n",
      "   --- ------------------------------------ 1.2/12.9 MB 6.7 MB/s eta 0:00:02\n",
      "   ----- ---------------------------------- 1.6/12.9 MB 7.4 MB/s eta 0:00:02\n",
      "   ------ --------------------------------- 2.2/12.9 MB 8.0 MB/s eta 0:00:02\n",
      "   -------- ------------------------------- 2.6/12.9 MB 8.3 MB/s eta 0:00:02\n",
      "   --------- ------------------------------ 3.1/12.9 MB 8.6 MB/s eta 0:00:02\n",
      "   ----------- ---------------------------- 3.6/12.9 MB 8.9 MB/s eta 0:00:02\n",
      "   ------------ --------------------------- 4.1/12.9 MB 9.1 MB/s eta 0:00:01\n",
      "   -------------- ------------------------- 4.6/12.9 MB 9.2 MB/s eta 0:00:01\n",
      "   --------------- ------------------------ 5.0/12.9 MB 9.2 MB/s eta 0:00:01\n",
      "   ---------------- ----------------------- 5.4/12.9 MB 9.1 MB/s eta 0:00:01\n",
      "   ------------------ --------------------- 6.0/12.9 MB 9.3 MB/s eta 0:00:01\n",
      "   ------------------- -------------------- 6.5/12.9 MB 9.4 MB/s eta 0:00:01\n",
      "   --------------------- ------------------ 7.0/12.9 MB 9.5 MB/s eta 0:00:01\n",
      "   ----------------------- ---------------- 7.5/12.9 MB 9.6 MB/s eta 0:00:01\n",
      "   ------------------------ --------------- 7.9/12.9 MB 9.5 MB/s eta 0:00:01\n",
      "   ------------------------- -------------- 8.3/12.9 MB 9.5 MB/s eta 0:00:01\n",
      "   --------------------------- ------------ 8.9/12.9 MB 9.6 MB/s eta 0:00:01\n",
      "   ---------------------------- ----------- 9.2/12.9 MB 9.6 MB/s eta 0:00:01\n",
      "   ----------------------------- ---------- 9.6/12.9 MB 9.5 MB/s eta 0:00:01\n",
      "   ------------------------------- -------- 10.1/12.9 MB 9.5 MB/s eta 0:00:01\n",
      "   -------------------------------- ------- 10.6/12.9 MB 10.1 MB/s eta 0:00:01\n",
      "   ---------------------------------- ----- 11.1/12.9 MB 10.2 MB/s eta 0:00:01\n",
      "   ------------------------------------ --- 11.7/12.9 MB 10.2 MB/s eta 0:00:01\n",
      "   ------------------------------------- -- 12.2/12.9 MB 10.2 MB/s eta 0:00:01\n",
      "   ---------------------------------------  12.7/12.9 MB 10.4 MB/s eta 0:00:01\n",
      "   ---------------------------------------- 12.9/12.9 MB 10.1 MB/s eta 0:00:00\n",
      "Installing collected packages: numpy\n",
      "Note: you may need to restart the kernel to use updated packages.\n"
     ]
    },
    {
     "name": "stderr",
     "output_type": "stream",
     "text": [
      "  WARNING: Failed to write executable - trying to use .deleteme logic\n",
      "ERROR: Could not install packages due to an OSError: [WinError 2] The system cannot find the file specified: 'C:\\\\Python310\\\\Scripts\\\\f2py.exe' -> 'C:\\\\Python310\\\\Scripts\\\\f2py.exe.deleteme'\n",
      "\n",
      "\n",
      "[notice] A new release of pip is available: 23.3.2 -> 25.1.1\n",
      "[notice] To update, run: python.exe -m pip install --upgrade pip\n"
     ]
    }
   ],
   "source": [
    "pip install numpy"
   ]
  },
  {
   "cell_type": "code",
   "execution_count": 2,
   "id": "5b2281a2-a047-4c7e-98e6-1a654fe8dd5a",
   "metadata": {},
   "outputs": [],
   "source": [
    "import numpy as np"
   ]
  },
  {
   "cell_type": "code",
   "execution_count": 7,
   "id": "92867312-679d-4824-ad44-0557f5bb9cd3",
   "metadata": {},
   "outputs": [
    {
     "data": {
      "text/plain": [
       "array([20, 24, 38, 41, 18, 14,  7, 13,  9, 25], dtype=int32)"
      ]
     },
     "execution_count": 7,
     "metadata": {},
     "output_type": "execute_result"
    }
   ],
   "source": [
    "arr = np.random.randint(1,50,size=(10))\n",
    "arr"
   ]
  },
  {
   "cell_type": "code",
   "execution_count": 8,
   "id": "d9b32dd4-8733-4474-b72e-d0b60c04a60a",
   "metadata": {},
   "outputs": [
    {
     "data": {
      "text/plain": [
       "np.float64(20.9)"
      ]
     },
     "execution_count": 8,
     "metadata": {},
     "output_type": "execute_result"
    }
   ],
   "source": [
    "np.mean(arr)"
   ]
  },
  {
   "cell_type": "code",
   "execution_count": 9,
   "id": "cb48cba1-4c19-4e18-b8aa-98c82aeac85d",
   "metadata": {},
   "outputs": [
    {
     "data": {
      "text/plain": [
       "array([[4, 1, 6],\n",
       "       [8, 9, 8],\n",
       "       [5, 6, 8]], dtype=int32)"
      ]
     },
     "execution_count": 9,
     "metadata": {},
     "output_type": "execute_result"
    }
   ],
   "source": [
    "arr1 = np.random.randint(1,10,size=(3,3))\n",
    "arr1"
   ]
  },
  {
   "cell_type": "code",
   "execution_count": 10,
   "id": "36db6013-4c1b-4512-9f2e-7152205d9f65",
   "metadata": {},
   "outputs": [
    {
     "data": {
      "text/plain": [
       "array([[4, 6, 1],\n",
       "       [1, 3, 4],\n",
       "       [8, 3, 4]], dtype=int32)"
      ]
     },
     "execution_count": 10,
     "metadata": {},
     "output_type": "execute_result"
    }
   ],
   "source": [
    "arr2 = np.random.randint(1,10,size=(3,3))\n",
    "arr2"
   ]
  },
  {
   "cell_type": "code",
   "execution_count": 11,
   "id": "80c500d5-5f01-4c92-a9c4-6f5a1ed63d0c",
   "metadata": {},
   "outputs": [
    {
     "data": {
      "text/plain": [
       "array([[ 8,  7,  7],\n",
       "       [ 9, 12, 12],\n",
       "       [13,  9, 12]], dtype=int32)"
      ]
     },
     "execution_count": 11,
     "metadata": {},
     "output_type": "execute_result"
    }
   ],
   "source": [
    "arr3 = arr1 + arr2\n",
    "arr3"
   ]
  },
  {
   "cell_type": "code",
   "execution_count": 12,
   "id": "ce700a13-eb48-4cb0-91d4-2c1a4840edb4",
   "metadata": {},
   "outputs": [
    {
     "data": {
      "text/plain": [
       "np.float64(9.88888888888889)"
      ]
     },
     "execution_count": 12,
     "metadata": {},
     "output_type": "execute_result"
    }
   ],
   "source": [
    "np.mean(arr3)"
   ]
  },
  {
   "cell_type": "code",
   "execution_count": 14,
   "id": "a364ccb7-a115-49cf-8675-e100d992308c",
   "metadata": {},
   "outputs": [
    {
     "data": {
      "text/plain": [
       "array([99, 77, 52, 58, 80, 98, 87, 93, 67, 63, 90], dtype=int32)"
      ]
     },
     "execution_count": 14,
     "metadata": {},
     "output_type": "execute_result"
    }
   ],
   "source": [
    "arr = np.random.randint(1,100,size=(20))\n",
    "arr\n",
    "condition = arr > 50\n",
    "filtered_arr = arr[condition]\n",
    "filtered_arr"
   ]
  },
  {
   "cell_type": "code",
   "execution_count": null,
   "id": "ff08f584-6895-4a4d-8ec1-29a5aa5f749b",
   "metadata": {},
   "outputs": [],
   "source": [
    "\n"
   ]
  }
 ],
 "metadata": {
  "kernelspec": {
   "display_name": "Python 3 (ipykernel)",
   "language": "python",
   "name": "python3"
  },
  "language_info": {
   "codemirror_mode": {
    "name": "ipython",
    "version": 3
   },
   "file_extension": ".py",
   "mimetype": "text/x-python",
   "name": "python",
   "nbconvert_exporter": "python",
   "pygments_lexer": "ipython3",
   "version": "3.10.8"
  }
 },
 "nbformat": 4,
 "nbformat_minor": 5
}
